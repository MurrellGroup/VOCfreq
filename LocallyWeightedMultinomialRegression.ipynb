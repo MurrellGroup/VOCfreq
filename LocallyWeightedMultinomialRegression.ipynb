{
 "cells": [
  {
   "cell_type": "code",
   "execution_count": 1,
   "metadata": {},
   "outputs": [
    {
     "data": {
      "text/plain": [
       "superlineage (generic function with 1 method)"
      ]
     },
     "execution_count": 1,
     "metadata": {},
     "output_type": "execute_result"
    }
   ],
   "source": [
    "using JSON, HTTP, CSV, DataFrames, Dates, StatsBase, PyPlot, GLMNet\n",
    "\n",
    "prefix_match(short::String,long::String) = short == long[1:length(short)]\n",
    "\n",
    "#Note, this only does one \"layer\" of expansion. For now, no more are needed, but might need updating in future.\n",
    "function lineage_name_expand(lin::String; d = json_lineages)\n",
    "    l = split(lin,\".\")[1]\n",
    "    if haskey(d,l)\n",
    "        if typeof(d[l]) == String && d[l] != \"\"\n",
    "            #Non-recombinant rename\n",
    "            return d[l]*lin[length(l)+1:length(lin)]\n",
    "        end\n",
    "    end\n",
    "    #No key, or recombinant lineage\n",
    "    return lin\n",
    "end\n",
    "\n",
    "function WHO_name(lin, d = WHO_dict)\n",
    "    #This should be called on lineages that have been \"expanded\" with the above function \n",
    "    for i in length(lin):-1:1\n",
    "        #Check the whole string, and then everything before a \".\".\n",
    "        #Note: When the string is \"C.371\" we don't want to match \"C.37\" - only if it were \"C.37.1\"\n",
    "        if i == length(lin) || lin[i+1] == '.'\n",
    "            l = lin[1:i]\n",
    "            if haskey(d,l)\n",
    "                return d[l]\n",
    "            end\n",
    "        end\n",
    "    end\n",
    "    return lin\n",
    "end\n",
    "\n",
    "#return true if a is equal to, or a is a parent lineage of b\n",
    "function isparentlineage(a::String,b::String)\n",
    "    if length(a) <= length(b)\n",
    "        if (a==b) || (b[1:length(a)] == a && b[length(a)+1] == '.')\n",
    "            return true\n",
    "        end\n",
    "    end\n",
    "    return false\n",
    "end\n",
    "\n",
    "function superlineage(s)\n",
    "    return join(split(s,\".\")[1:end-1],\".\")\n",
    "end"
   ]
  },
  {
   "cell_type": "code",
   "execution_count": 2,
   "metadata": {},
   "outputs": [],
   "source": [
    "WHO_dict = Dict([\n",
    "    (\"B.1.1.7\",\"Alpha\"),\n",
    "    (\"B.1.351\",\"Beta\"),\n",
    "    (\"P.1\",\"Gamma\"),\n",
    "    (\"B.1.617.2\",\"Delta\"),\n",
    "    (\"C.37\",\"Lambda\"),\n",
    "    (\"B.1.621\",\"Mu\"),\n",
    "    (\"B.1.617.1\",\"Kappa\"),\n",
    "    (\"B.1.526\",\"Iota\"),\n",
    "    (\"B.1.525\",\"Eta\"),\n",
    "    (\"B.1.427\",\"Epsilon\"),\n",
    "    (\"B.1.429\",\"Epsilon\")\n",
    "]);\n",
    "\n",
    "url = \"https://raw.githubusercontent.com/cov-lineages/pango-designation/master/pango_designation/alias_key.json\";\n",
    "imp = HTTP.get(url)\n",
    "lineage_designation = String(imp.body)\n",
    "json_lineages = JSON.Parser.parse(lineage_designation);"
   ]
  },
  {
   "cell_type": "code",
   "execution_count": 3,
   "metadata": {},
   "outputs": [
    {
     "data": {
      "text/plain": [
       "Dict{String, String} with 13 entries:\n",
       "  \"B.1.526\"    => \"Iota\"\n",
       "  \"B.1.621\"    => \"Mu\"\n",
       "  \"P.1\"        => \"Gamma\"\n",
       "  \"B.1.1.28.1\" => \"Gamma\"\n",
       "  \"B.1.351\"    => \"Beta\"\n",
       "  \"B.1.617.2\"  => \"Delta\"\n",
       "  \"B.1.1.1.37\" => \"Lambda\"\n",
       "  \"B.1.525\"    => \"Eta\"\n",
       "  \"B.1.1.7\"    => \"Alpha\"\n",
       "  \"B.1.617.1\"  => \"Kappa\"\n",
       "  \"B.1.427\"    => \"Epsilon\"\n",
       "  \"C.37\"       => \"Lambda\"\n",
       "  \"B.1.429\"    => \"Epsilon\""
      ]
     },
     "execution_count": 3,
     "metadata": {},
     "output_type": "execute_result"
    }
   ],
   "source": [
    "#Expanding the aliased WHO lineages\n",
    "for k in keys(WHO_dict)\n",
    "    WHO_dict[lineage_name_expand(k)] = WHO_dict[k]\n",
    "end\n",
    "WHO_dict"
   ]
  },
  {
   "cell_type": "code",
   "execution_count": 4,
   "metadata": {},
   "outputs": [
    {
     "name": "stdout",
     "output_type": "stream",
     "text": [
      "Discarding 125978 for suspicious dates.\n",
      "Discarding 87054 for various reasons.\n",
      "Discarding 51 recombinants.\n"
     ]
    }
   ],
   "source": [
    "#Data import and filtering\n",
    "fname = \"metadata_2021_10_09.tsv\"\n",
    "df = CSV.read(fname, DataFrame; missingstring = [\"\",\"None\",\"NA\"], typemap=Dict(Date => String));\n",
    "\n",
    "#Some of these only have year and month or just year recorded - we must discard them.\n",
    "date_filt = length.(df.\"Collection date\") .>= 10\n",
    "println(\"Discarding $(sum(.!(date_filt))) for suspicious dates.\")\n",
    "df = df[date_filt,:]\n",
    "df.\"Collection date\" = Date.(df.\"Collection date\",\"y-m-d\");\n",
    "\n",
    "pand_start = Date(Dates.Year(2019),Dates.Month(11),Dates.Day(17));\n",
    "\n",
    "#A few filters to exclude entries with missing/outlier dates, missing locations, lineages, etc\n",
    "keeps = .!ismissing.(df.\"Collection date\")\n",
    "keeps = keeps .& .!ismissing.(df.\"Location\")\n",
    "keeps = keeps .& .!ismissing.(df.\"Pango lineage\")\n",
    "keeps = keeps .& (df.\"Collection date\" .> pand_start)\n",
    "println(\"Discarding $(sum(.!(keeps))) for various reasons.\")\n",
    "df = df[keeps,:];\n",
    "\n",
    "#Exclude recombinant lineages which cannot be collapsed - there are only about 50 seqs globally\n",
    "keeps = [l[1] .!='X' for l in df.\"Pango lineage\"] \n",
    "println(\"Discarding $(sum(.!(keeps))) recombinants.\")\n",
    "df = df[keeps,:];"
   ]
  },
  {
   "cell_type": "code",
   "execution_count": 5,
   "metadata": {},
   "outputs": [],
   "source": [
    "#Extract countries\n",
    "splot = split.(df.Location, \"/\");\n",
    "countries = String.(strip.(getindex.(splot,2),' '));\n",
    "continents = String.(strip.(getindex.(splot,1),' '));\n",
    "df.Countries = countries\n",
    "country_list = sort(union(countries));"
   ]
  },
  {
   "cell_type": "code",
   "execution_count": 6,
   "metadata": {},
   "outputs": [],
   "source": [
    "#Expanding lineage aliases, and then resolving WHO names.\n",
    "df.\"ExpandedPango\" = lineage_name_expand.(string.(df.\"Pango lineage\"));\n",
    "df.\"PangoOrWHO\" = WHO_name.(df.\"ExpandedPango\");"
   ]
  },
  {
   "cell_type": "code",
   "execution_count": 7,
   "metadata": {},
   "outputs": [
    {
     "data": {
      "text/plain": [
       "OrderedCollections.OrderedDict{String, Int64} with 16 entries:\n",
       "  \"A\"       => 15057\n",
       "  \"Alpha\"   => 1090280\n",
       "  \"B\"       => 18939\n",
       "  \"B.1\"     => 387825\n",
       "  \"B.1.1\"   => 266815\n",
       "  \"B.1.177\" => 168047\n",
       "  \"B.1.2\"   => 106196\n",
       "  \"Beta\"    => 36249\n",
       "  \"Delta\"   => 1672321\n",
       "  \"Epsilon\" => 59665\n",
       "  \"Eta\"     => 8015\n",
       "  \"Gamma\"   => 89960\n",
       "  \"Iota\"    => 40688\n",
       "  \"Kappa\"   => 6620\n",
       "  \"Lambda\"  => 7651\n",
       "  \"Mu\"      => 9804"
      ]
     },
     "execution_count": 7,
     "metadata": {},
     "output_type": "execute_result"
    }
   ],
   "source": [
    "#Collapsing non-WHO lineages up the tree until they have 50k seqs\n",
    "lineage_count_dic = countmap(df.\"PangoOrWHO\");\n",
    "lineage_collapse_thresh = 50000;\n",
    "\n",
    "for i in 1:100 #Hacky iterate enough times.\n",
    "    for l in keys(lineage_count_dic)\n",
    "        c = lineage_count_dic[l]\n",
    "        if lineage_count_dic[l] < lineage_collapse_thresh\n",
    "            sup = superlineage(l)\n",
    "            if length(sup)>0\n",
    "                if haskey(lineage_count_dic,sup)\n",
    "                    lineage_count_dic[sup] += c\n",
    "                else\n",
    "                    lineage_count_dic[sup] = c\n",
    "                end\n",
    "                lineage_count_dic[l] = 0\n",
    "            end\n",
    "        end\n",
    "    end\n",
    "end\n",
    "\n",
    "all_lins = collect(keys(lineage_count_dic))\n",
    "\n",
    "for k in keys(lineage_count_dic)\n",
    "    if lineage_count_dic[k] == 0\n",
    "        delete!(lineage_count_dic,k)\n",
    "    end\n",
    "end\n",
    "\n",
    "reduced_lins = collect(keys(lineage_count_dic))\n",
    "sort(lineage_count_dic)"
   ]
  },
  {
   "cell_type": "code",
   "execution_count": 8,
   "metadata": {},
   "outputs": [],
   "source": [
    "#This is used in a way that relies on the ancestors being later in the list than their descendents.\n",
    "#Lexical sort should do the trick\n",
    "POA_lineages = reverse(sort(collect(keys(lineage_count_dic))));\n",
    "lineage_inds = Dict(zip(POA_lineages, 1:length(POA_lineages)));\n",
    "lineage_collapse_dict = Dict([(l,POA_lineages[findfirst(isparentlineage.(POA_lineages,l))]) for l in all_lins]);"
   ]
  },
  {
   "cell_type": "code",
   "execution_count": 9,
   "metadata": {},
   "outputs": [
    {
     "data": {
      "image/png": "[encoded data removed]",
      "text/plain": [
       "Figure(PyObject <Figure size 640x480 with 1 Axes>)"
      ]
     },
     "metadata": {},
     "output_type": "display_data"
    }
   ],
   "source": [
    "#Convert days to integers from the \"start\" of the pandemic\n",
    "pand_days = Dates.value.(Date.(df.\"Collection date\") .- pand_start);\n",
    "hist(pand_days,1:700);"
   ]
  },
  {
   "cell_type": "code",
   "execution_count": 10,
   "metadata": {},
   "outputs": [],
   "source": [
    "#Avoid the last ±20 days of sampling\n",
    "day_cap = 668\n",
    "last_day = pand_start + Day(day_cap) #2021-09-15\n",
    "upper_date = Dates.value(last_day - pand_start)\n",
    "keeps = (pand_days .>= 0) .& (pand_days .< upper_date)\n",
    "df = df[keeps,:]\n",
    "pand_days = pand_days[keeps]\n",
    "df.days_since = pand_days\n",
    "df = sort(df,:days_since);"
   ]
  },
  {
   "cell_type": "code",
   "execution_count": 11,
   "metadata": {},
   "outputs": [
    {
     "name": "stdout",
     "output_type": "stream",
     "text": [
      "Countries without locations:[\"England\", \"Saint Martin\", \"Slovak Republic\"]\n"
     ]
    }
   ],
   "source": [
    "#Picking countries to run...\n",
    "loc_df = CSV.read(\"lat_and_lon.csv\", DataFrame);\n",
    "println(\"Countries without locations:\", setdiff(country_list,loc_df.Country))\n",
    "#println(\"Countries with locations but no seq data:\", setdiff(loc_df.Country, country_list))\n",
    "#Notes when fixing locations: a handful of sequences are listed as in \"England\". Same for \"Slovak Republic\" (most are \"Slovakia\") and \"Saint Martin\" (most are Sint Maarten)"
   ]
  },
  {
   "cell_type": "code",
   "execution_count": 12,
   "metadata": {},
   "outputs": [
    {
     "data": {
      "text/plain": [
       "fit_country (generic function with 1 method)"
      ]
     },
     "execution_count": 12,
     "metadata": {},
     "output_type": "execute_result"
    }
   ],
   "source": [
    "#RBF kernel used to locally weight samples.\n",
    "#Note: if GLMNet estimates fail, try widening the bandwidth.\n",
    "RBF_weighting(t,d; bw = 180) = exp(-((t-d)/bw)^2)\n",
    "\n",
    "function fit_country(target_country, target_day; df = df, lineage_collapse_dict = lineage_collapse_dict, lineage_inds = lineage_inds)\n",
    "    #target_country = \"Uganda\"\n",
    "    min_df = df[df.Countries .== target_country,[\"days_since\",\"PangoOrWHO\"]]\n",
    "    min_df.CollapsedLineages = [lineage_collapse_dict[l] for l in min_df.\"PangoOrWHO\"]\n",
    "    \n",
    "    gdf = groupby(min_df, [:days_since, :CollapsedLineages])\n",
    "    sum_df = combine(gdf, :CollapsedLineages => length => :n);\n",
    "    #Adding lineage B pseudocounts to prevent overestimation of VoCs when there is no early data \n",
    "    push!(sum_df,[0,\"B\",500])\n",
    "    wide = unstack(sum_df, [:days_since], :CollapsedLineages, :n)\n",
    "\n",
    "    for col in names(wide)\n",
    "        wide[ismissing.(wide[:,col]), col] .= 0\n",
    "    end\n",
    "    \n",
    "    days = wide.days_since\n",
    "    y_mat = Matrix(wide[:,2:end]);\n",
    "    \n",
    "    day_weights = RBF_weighting.(target_day,days)\n",
    "\n",
    "    #Fit the model using GLMNet, with observations weighted around the date of interest.\n",
    "    al=0.5\n",
    "    path = glmnet(days[:,:], y_mat,GLMNet.Multinomial(),alpha=al, weights = day_weights,standardize = false);\n",
    "    newx = collect(target_day:target_day)\n",
    "    predi = GLMNet.predict(path,newx[:,:], outtype = :prob)\n",
    "    \n",
    "    lins = names(wide)[2:end]\n",
    "    \n",
    "    freqs = zeros(length(lineage_inds))\n",
    "    for i in 1:length(lins)\n",
    "        #Note: \"predi\" is the entire regularization path from GLMNet.\n",
    "        #We take the last slice of this.\n",
    "        freqs[lineage_inds[lins[i]]] = predi[1,i,end]\n",
    "    end\n",
    "    \n",
    "    #Something like an effective sample size (ie. weights*counts) either side of the estimate\n",
    "    #Can be used to filter countries with poor support\n",
    "    weighted_totals = sum(y_mat,dims = 2) .* day_weights;\n",
    "    #Note: Neff ignores the pseudocounts:\n",
    "    before_neff = sum(weighted_totals[(days .> 1) .& (days .<= target_day)])\n",
    "    after_neff = sum(weighted_totals[days .>= target_day])\n",
    "    \n",
    "    return freqs, before_neff, after_neff\n",
    "end"
   ]
  },
  {
   "cell_type": "code",
   "execution_count": 13,
   "metadata": {},
   "outputs": [],
   "source": [
    "#Discard countries with low sampling\n",
    "countries_to_estimate = String[]\n",
    "for c in country_list\n",
    "    if sum(df.Countries .== c) > 500\n",
    "        push!(countries_to_estimate,c)\n",
    "    end\n",
    "end"
   ]
  },
  {
   "cell_type": "code",
   "execution_count": 14,
   "metadata": {},
   "outputs": [
    {
     "name": "stdout",
     "output_type": "stream",
     "text": [
      "Differences: [134, 139]\n"
     ]
    },
    {
     "data": {
      "text/plain": [
       "3-element Vector{Date}:\n",
       " 2020-11-01\n",
       " 2021-03-15\n",
       " 2021-08-01"
      ]
     },
     "execution_count": 14,
     "metadata": {},
     "output_type": "execute_result"
    }
   ],
   "source": [
    "#Pick the dates (in days since start) at which we want to eval the locally weighted multinomial regression\n",
    "days_to_estimate = [350, 484, 623]\n",
    "println(\"Differences: \", days_to_estimate[2:end] .- days_to_estimate[1:end-1])\n",
    "pand_start .+ Day.(days_to_estimate)"
   ]
  },
  {
   "cell_type": "code",
   "execution_count": 15,
   "metadata": {},
   "outputs": [],
   "source": [
    "#Fit the model, and record nowcasts\n",
    "output_countries = String[]\n",
    "output_days = Date[]\n",
    "output_freqs = Array{Float64}[];\n",
    "before = Float64[]\n",
    "after = Float64[]\n",
    "\n",
    "for c in countries_to_estimate\n",
    "    for d in days_to_estimate\n",
    "        freqs, b, a = fit_country(c,d)\n",
    "        push!(output_countries,c)\n",
    "        push!(output_days,pand_start .+ Day(d))\n",
    "        push!(output_freqs,freqs)\n",
    "        push!(before,b)\n",
    "        push!(after,a)\n",
    "    end\n",
    "end"
   ]
  },
  {
   "cell_type": "code",
   "execution_count": 16,
   "metadata": {},
   "outputs": [],
   "source": [
    "#Get things into a data frame for export\n",
    "freq_mat = hcat(output_freqs...);\n",
    "estimate_df = DataFrame()\n",
    "estimate_df.Country = output_countries\n",
    "estimate_df.Day = output_days\n",
    "estimate_df.NeffBefore = before\n",
    "estimate_df.NeffAfter = after\n",
    "for i in 1:length(POA_lineages)\n",
    "    estimate_df[!,Symbol(POA_lineages[i])] = freq_mat[i,:]\n",
    "end"
   ]
  },
  {
   "cell_type": "code",
   "execution_count": 17,
   "metadata": {},
   "outputs": [
    {
     "data": {
      "text/plain": [
       "\"CountryEstimates.csv\""
      ]
     },
     "execution_count": 17,
     "metadata": {},
     "output_type": "execute_result"
    }
   ],
   "source": [
    "#Collapse non-VOCs into a single \"Other\" column for plotting\n",
    "#Note: it is important that these are first estimated separately, and then collapsed\n",
    "#The (local) linearity assumption would be (more) heavily violated otherwise\n",
    "nonVocs = [\"B.1\", \"B.1.177\", \"B\", \"A\", \"B.1.2\", \"B.1.1\"] #This might need to change if run on newer data!\n",
    "voc_or_not_df = copy(estimate_df)\n",
    "voc_or_not_df.Other = sum(Matrix(estimate_df[:,nonVocs]), dims = 2)[:];\n",
    "voc_or_not_df = voc_or_not_df[:,[n for n in names(voc_or_not_df) if !(n in nonVocs)]]\n",
    "CSV.write(\"CountryEstimates.csv\",voc_or_not_df)"
   ]
  }
 ],
 "metadata": {
  "@webio": {
   "lastCommId": null,
   "lastKernelId": null
  },
  "kernelspec": {
   "display_name": "Julia 1.6.3",
   "language": "julia",
   "name": "julia-1.6"
  },
  "language_info": {
   "file_extension": ".jl",
   "mimetype": "application/julia",
   "name": "julia",
   "version": "1.6.3"
  }
 },
 "nbformat": 4,
 "nbformat_minor": 4
}
